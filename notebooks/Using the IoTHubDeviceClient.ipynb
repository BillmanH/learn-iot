{
 "cells": [
  {
   "cell_type": "markdown",
   "source": [
    "# The IoTHubDeviceClient\r\n",
    "\r\n",
    "Unpacking the API in REPL. "
   ],
   "metadata": {}
  },
  {
   "cell_type": "code",
   "execution_count": 3,
   "source": [
    "import yaml, os\r\n",
    "from azure.iot.device import IoTHubDeviceClient\r\n",
    "from azure.storage.blob import BlobClient"
   ],
   "outputs": [],
   "metadata": {}
  },
  {
   "cell_type": "code",
   "execution_count": 4,
   "source": [
    "params = yaml.safe_load(open('../iot_keys.yaml'))"
   ],
   "outputs": [],
   "metadata": {}
  },
  {
   "cell_type": "code",
   "execution_count": 5,
   "source": [
    "client = IoTHubDeviceClient.create_from_connection_string(params['camera1'])"
   ],
   "outputs": [],
   "metadata": {}
  },
  {
   "cell_type": "markdown",
   "source": [
    "# Uploading Images\r\n",
    "You need to make sure that the IoT Hub has \"file upload enabled\" in the messaging services. It's not on by default. \r\n",
    "\r\n",
    "This code is [copied from the Azure docs](https://docs.microsoft.com/en-us/azure/iot-hub/iot-hub-python-python-file-upload)"
   ],
   "metadata": {}
  },
  {
   "cell_type": "code",
   "execution_count": 6,
   "source": [
    "image_name = \"frame_0.jpg\"\r\n",
    "images_path = os.path.join('..','assets','images')\r\n",
    "images_path\r\n"
   ],
   "outputs": [
    {
     "output_type": "execute_result",
     "data": {
      "text/plain": [
       "'..\\\\assets\\\\images'"
      ]
     },
     "metadata": {},
     "execution_count": 6
    }
   ],
   "metadata": {}
  },
  {
   "cell_type": "code",
   "execution_count": 11,
   "source": [
    "blob_info = client.get_storage_info_for_blob(\"camera-images\")\r\n",
    "sas_url = \"https://{}/{}/{}{}\".format(\r\n",
    "            blob_info[\"hostName\"],\r\n",
    "            blob_info[\"containerName\"],\r\n",
    "            blob_info[\"blobName\"],\r\n",
    "            blob_info[\"sasToken\"]\r\n",
    "        )\r\n",
    "\r\n",
    "with BlobClient.from_blob_url(sas_url) as blob_client:\r\n",
    "    with open(os.path.join(images_path,image_name), \"rb\") as f:\r\n",
    "        result = blob_client.upload_blob(f, overwrite=True)"
   ],
   "outputs": [],
   "metadata": {}
  },
  {
   "cell_type": "markdown",
   "source": [
    "The IoT will fetch the designated blob store and any needed credentials. No need for any keys other than the one for the IoT hub key. "
   ],
   "metadata": {}
  },
  {
   "cell_type": "code",
   "execution_count": 12,
   "source": [
    "client.disconnect()"
   ],
   "outputs": [],
   "metadata": {}
  },
  {
   "cell_type": "code",
   "execution_count": null,
   "source": [],
   "outputs": [],
   "metadata": {}
  }
 ],
 "metadata": {
  "orig_nbformat": 4,
  "language_info": {
   "name": "python",
   "version": "3.7.0",
   "mimetype": "text/x-python",
   "codemirror_mode": {
    "name": "ipython",
    "version": 3
   },
   "pygments_lexer": "ipython3",
   "nbconvert_exporter": "python",
   "file_extension": ".py"
  },
  "kernelspec": {
   "name": "python3",
   "display_name": "Python 3.7.0 64-bit ('azure-iot': conda)"
  },
  "interpreter": {
   "hash": "4edad948901e16c6d377b255f5e69a65bda0fe81e9c92cdf9d46e0f44b8cc333"
  }
 },
 "nbformat": 4,
 "nbformat_minor": 2
}